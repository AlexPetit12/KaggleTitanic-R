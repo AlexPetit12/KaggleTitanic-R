{
 "cells": [
  {
   "cell_type": "code",
   "execution_count": 2,
   "metadata": {
    "collapsed": true
   },
   "outputs": [],
   "source": [
    "# Kaggle Titanic tutorial with R inspired by Trevor Stephens\n",
    "# Tutorial part 1"
   ]
  },
  {
   "cell_type": "code",
   "execution_count": 3,
   "metadata": {
    "collapsed": true
   },
   "outputs": [],
   "source": [
    "# Import train set and test set\n",
    "train <- read.csv(\"train.csv\")\n",
    "test <- read.csv(\"test.csv\")"
   ]
  },
  {
   "cell_type": "code",
   "execution_count": 4,
   "metadata": {
    "collapsed": false
   },
   "outputs": [
    {
     "name": "stdout",
     "output_type": "stream",
     "text": [
      "'data.frame':\t891 obs. of  12 variables:\n",
      " $ PassengerId: int  1 2 3 4 5 6 7 8 9 10 ...\n",
      " $ Survived   : int  0 1 1 1 0 0 0 0 1 1 ...\n",
      " $ Pclass     : int  3 1 3 1 3 3 1 3 3 2 ...\n",
      " $ Name       : Factor w/ 891 levels \"Abbing, Mr. Anthony\",..: 109 191 358 277 16 559 520 629 417 581 ...\n",
      " $ Sex        : Factor w/ 2 levels \"female\",\"male\": 2 1 1 1 2 2 2 2 1 1 ...\n",
      " $ Age        : num  22 38 26 35 35 NA 54 2 27 14 ...\n",
      " $ SibSp      : int  1 1 0 1 0 0 0 3 0 1 ...\n",
      " $ Parch      : int  0 0 0 0 0 0 0 1 2 0 ...\n",
      " $ Ticket     : Factor w/ 681 levels \"110152\",\"110413\",..: 524 597 670 50 473 276 86 396 345 133 ...\n",
      " $ Fare       : num  7.25 71.28 7.92 53.1 8.05 ...\n",
      " $ Cabin      : Factor w/ 148 levels \"\",\"A10\",\"A14\",..: 1 83 1 57 1 1 131 1 1 1 ...\n",
      " $ Embarked   : Factor w/ 4 levels \"\",\"C\",\"Q\",\"S\": 4 2 4 4 4 3 4 4 4 2 ...\n"
     ]
    }
   ],
   "source": [
    "# Examine structure of data\n",
    "str(train)"
   ]
  },
  {
   "cell_type": "code",
   "execution_count": 5,
   "metadata": {
    "collapsed": false
   },
   "outputs": [
    {
     "data": {
      "text/plain": [
       "\n",
       "  0   1 \n",
       "549 342 "
      ]
     },
     "metadata": {},
     "output_type": "display_data"
    }
   ],
   "source": [
    "# Number of people who died and survived\n",
    "table(train$Survived)"
   ]
  },
  {
   "cell_type": "code",
   "execution_count": 6,
   "metadata": {
    "collapsed": false
   },
   "outputs": [
    {
     "data": {
      "text/plain": [
       "\n",
       "        0         1 \n",
       "0.6161616 0.3838384 "
      ]
     },
     "metadata": {},
     "output_type": "display_data"
    }
   ],
   "source": [
    "# Proportion of number of people who died and survived\n",
    "prop.table(table(train$Survived))"
   ]
  },
  {
   "cell_type": "code",
   "execution_count": 7,
   "metadata": {
    "collapsed": true
   },
   "outputs": [],
   "source": [
    "# For the first submission, let's just say that everyone died\n",
    "\n",
    "# Add a Survived column in test set\n",
    "test$Survived <- rep(0, 418)\n",
    "\n",
    "# Create a submit dataframe which contains PassengerId and Survived variables\n",
    "submit <- data.frame(PassengerId=test$PassengerId, Survived=test$Survived)\n",
    "\n",
    "# Write submit dataframe to csv file\n",
    "write.csv(submit, file=\"theyallperished.csv\", row.names=FALSE)"
   ]
  },
  {
   "cell_type": "code",
   "execution_count": 8,
   "metadata": {
    "collapsed": false
   },
   "outputs": [
    {
     "data": {
      "text/plain": [
       "\n",
       "female   male \n",
       "   314    577 "
      ]
     },
     "metadata": {},
     "output_type": "display_data"
    }
   ],
   "source": [
    "# Tutorial part 2 - closer view at genders and age\n",
    "\n",
    "# Total of females and males\n",
    "table(train$Sex)"
   ]
  },
  {
   "cell_type": "code",
   "execution_count": 9,
   "metadata": {
    "collapsed": false
   },
   "outputs": [
    {
     "data": {
      "text/plain": [
       "\n",
       "  female     male \n",
       "0.352413 0.647587 "
      ]
     },
     "metadata": {},
     "output_type": "display_data"
    }
   ],
   "source": [
    "# Genders proportion\n",
    "prop.table(table(train$Sex))"
   ]
  },
  {
   "cell_type": "code",
   "execution_count": 10,
   "metadata": {
    "collapsed": false
   },
   "outputs": [
    {
     "data": {
      "text/plain": [
       "        \n",
       "                 0         1\n",
       "  female 0.2579618 0.7420382\n",
       "  male   0.8110919 0.1889081"
      ]
     },
     "metadata": {},
     "output_type": "display_data"
    }
   ],
   "source": [
    "# Proportion who died and survived in function of genders\n",
    "prop.table(table(train$Sex, train$Survived), 1)"
   ]
  },
  {
   "cell_type": "code",
   "execution_count": 12,
   "metadata": {
    "collapsed": false
   },
   "outputs": [],
   "source": [
    "# We notice that 74.2% of women survived, whereas only 18.9% of men survived\n",
    "# Let's make a submission in which all women survived\n",
    "\n",
    "# All women survived\n",
    "test$Survived[test$Sex == 'female'] = 1\n",
    "\n",
    "# Write new dataframe to a csv file\n",
    "submit <- data.frame(PassengerId=test$PassengerId, Survived=test$Survived)\n",
    "write.csv(submit, file=\"onlywomensurvived.csv\", row.names=FALSE)"
   ]
  },
  {
   "cell_type": "code",
   "execution_count": 13,
   "metadata": {
    "collapsed": false
   },
   "outputs": [
    {
     "data": {
      "text/plain": [
       "   Min. 1st Qu.  Median    Mean 3rd Qu.    Max.    NA's \n",
       "   0.42   20.12   28.00   29.70   38.00   80.00     177 "
      ]
     },
     "metadata": {},
     "output_type": "display_data"
    }
   ],
   "source": [
    "# Let's see if the age variable has something to offer\n",
    "summary(train$Age)"
   ]
  },
  {
   "cell_type": "code",
   "execution_count": 14,
   "metadata": {
    "collapsed": true
   },
   "outputs": [],
   "source": [
    "# Create a new variable Child to indicate whether the passenger is below the age of 18\n",
    "train$Child <- 0\n",
    "train$Child[train$Age < 18] <- 1"
   ]
  },
  {
   "cell_type": "code",
   "execution_count": 15,
   "metadata": {
    "collapsed": false
   },
   "outputs": [
    {
     "data": {
      "text/html": [
       "<table>\n",
       "<thead><tr><th scope=col>Child</th><th scope=col>Sex</th><th scope=col>Survived</th></tr></thead>\n",
       "<tbody>\n",
       "\t<tr><td>0     </td><td>female</td><td>195   </td></tr>\n",
       "\t<tr><td>1     </td><td>female</td><td> 38   </td></tr>\n",
       "\t<tr><td>0     </td><td>male  </td><td> 86   </td></tr>\n",
       "\t<tr><td>1     </td><td>male  </td><td> 23   </td></tr>\n",
       "</tbody>\n",
       "</table>\n"
      ],
      "text/latex": [
       "\\begin{tabular}{r|lll}\n",
       " Child & Sex & Survived\\\\\n",
       "\\hline\n",
       "\t 0      & female & 195   \\\\\n",
       "\t 1      & female &  38   \\\\\n",
       "\t 0      & male   &  86   \\\\\n",
       "\t 1      & male   &  23   \\\\\n",
       "\\end{tabular}\n"
      ],
      "text/markdown": [
       "\n",
       "Child | Sex | Survived | \n",
       "|---|---|---|---|\n",
       "| 0      | female | 195    | \n",
       "| 1      | female |  38    | \n",
       "| 0      | male   |  86    | \n",
       "| 1      | male   |  23    | \n",
       "\n",
       "\n"
      ],
      "text/plain": [
       "  Child Sex    Survived\n",
       "1 0     female 195     \n",
       "2 1     female  38     \n",
       "3 0     male    86     \n",
       "4 1     male    23     "
      ]
     },
     "metadata": {},
     "output_type": "display_data"
    }
   ],
   "source": [
    "# Number of survivors according to age and sex\n",
    "aggregate(Survived ~ Child + Sex, data=train, FUN=sum)"
   ]
  },
  {
   "cell_type": "code",
   "execution_count": 17,
   "metadata": {
    "collapsed": false
   },
   "outputs": [
    {
     "data": {
      "text/html": [
       "<table>\n",
       "<thead><tr><th scope=col>Child</th><th scope=col>Sex</th><th scope=col>Survived</th></tr></thead>\n",
       "<tbody>\n",
       "\t<tr><td>0     </td><td>female</td><td>259   </td></tr>\n",
       "\t<tr><td>1     </td><td>female</td><td> 55   </td></tr>\n",
       "\t<tr><td>0     </td><td>male  </td><td>519   </td></tr>\n",
       "\t<tr><td>1     </td><td>male  </td><td> 58   </td></tr>\n",
       "</tbody>\n",
       "</table>\n"
      ],
      "text/latex": [
       "\\begin{tabular}{r|lll}\n",
       " Child & Sex & Survived\\\\\n",
       "\\hline\n",
       "\t 0      & female & 259   \\\\\n",
       "\t 1      & female &  55   \\\\\n",
       "\t 0      & male   & 519   \\\\\n",
       "\t 1      & male   &  58   \\\\\n",
       "\\end{tabular}\n"
      ],
      "text/markdown": [
       "\n",
       "Child | Sex | Survived | \n",
       "|---|---|---|---|\n",
       "| 0      | female | 259    | \n",
       "| 1      | female |  55    | \n",
       "| 0      | male   | 519    | \n",
       "| 1      | male   |  58    | \n",
       "\n",
       "\n"
      ],
      "text/plain": [
       "  Child Sex    Survived\n",
       "1 0     female 259     \n",
       "2 1     female  55     \n",
       "3 0     male   519     \n",
       "4 1     male    58     "
      ]
     },
     "metadata": {},
     "output_type": "display_data"
    }
   ],
   "source": [
    "# Number of people according to age and sex\n",
    "aggregate(Survived ~ Child + Sex, data=train, FUN=length)"
   ]
  },
  {
   "cell_type": "code",
   "execution_count": 18,
   "metadata": {
    "collapsed": false
   },
   "outputs": [
    {
     "data": {
      "text/html": [
       "<table>\n",
       "<thead><tr><th scope=col>Child</th><th scope=col>Sex</th><th scope=col>Survived</th></tr></thead>\n",
       "<tbody>\n",
       "\t<tr><td>0        </td><td>female   </td><td>0.7528958</td></tr>\n",
       "\t<tr><td>1        </td><td>female   </td><td>0.6909091</td></tr>\n",
       "\t<tr><td>0        </td><td>male     </td><td>0.1657033</td></tr>\n",
       "\t<tr><td>1        </td><td>male     </td><td>0.3965517</td></tr>\n",
       "</tbody>\n",
       "</table>\n"
      ],
      "text/latex": [
       "\\begin{tabular}{r|lll}\n",
       " Child & Sex & Survived\\\\\n",
       "\\hline\n",
       "\t 0         & female    & 0.7528958\\\\\n",
       "\t 1         & female    & 0.6909091\\\\\n",
       "\t 0         & male      & 0.1657033\\\\\n",
       "\t 1         & male      & 0.3965517\\\\\n",
       "\\end{tabular}\n"
      ],
      "text/markdown": [
       "\n",
       "Child | Sex | Survived | \n",
       "|---|---|---|---|\n",
       "| 0         | female    | 0.7528958 | \n",
       "| 1         | female    | 0.6909091 | \n",
       "| 0         | male      | 0.1657033 | \n",
       "| 1         | male      | 0.3965517 | \n",
       "\n",
       "\n"
      ],
      "text/plain": [
       "  Child Sex    Survived \n",
       "1 0     female 0.7528958\n",
       "2 1     female 0.6909091\n",
       "3 0     male   0.1657033\n",
       "4 1     male   0.3965517"
      ]
     },
     "metadata": {},
     "output_type": "display_data"
    }
   ],
   "source": [
    "# Proportion of people who survived according to age and sex\n",
    "aggregate(Survived ~ Child + Sex, data=train, FUN=function(x) {sum(x)/length(x)})"
   ]
  },
  {
   "cell_type": "code",
   "execution_count": 19,
   "metadata": {
    "collapsed": true
   },
   "outputs": [],
   "source": [
    "# Make bins for the fare variable\n",
    "train$Fare2 <- \"30+\"\n",
    "train$Fare2[train$Fare < 10] <- \"<10\"\n",
    "train$Fare2[train$Fare < 20 & train$Fare >= 10] <- \"10-20\"\n",
    "train$Fare2[train$Fare < 30 & train$Fare >= 20] <- \"20-30\""
   ]
  },
  {
   "cell_type": "code",
   "execution_count": 21,
   "metadata": {
    "collapsed": false
   },
   "outputs": [
    {
     "data": {
      "text/html": [
       "<table>\n",
       "<thead><tr><th scope=col>Fare2</th><th scope=col>Pclass</th><th scope=col>Sex</th><th scope=col>Survived</th></tr></thead>\n",
       "<tbody>\n",
       "\t<tr><td>20-30    </td><td>1        </td><td>female   </td><td>0.8333333</td></tr>\n",
       "\t<tr><td>30+      </td><td>1        </td><td>female   </td><td>0.9772727</td></tr>\n",
       "\t<tr><td>10-20    </td><td>2        </td><td>female   </td><td>0.9142857</td></tr>\n",
       "\t<tr><td>20-30    </td><td>2        </td><td>female   </td><td>0.9000000</td></tr>\n",
       "\t<tr><td>30+      </td><td>2        </td><td>female   </td><td>1.0000000</td></tr>\n",
       "\t<tr><td><span style=white-space:pre-wrap>&lt;10  </span></td><td>3                                               </td><td>female                                          </td><td>0.5937500                                       </td></tr>\n",
       "\t<tr><td>10-20    </td><td>3        </td><td>female   </td><td>0.5813953</td></tr>\n",
       "\t<tr><td>20-30    </td><td>3        </td><td>female   </td><td>0.3333333</td></tr>\n",
       "\t<tr><td>30+      </td><td>3        </td><td>female   </td><td>0.1250000</td></tr>\n",
       "\t<tr><td><span style=white-space:pre-wrap>&lt;10  </span></td><td>1                                               </td><td><span style=white-space:pre-wrap>male  </span>  </td><td>0.0000000                                       </td></tr>\n",
       "\t<tr><td>20-30    </td><td>1        </td><td>male     </td><td>0.4000000</td></tr>\n",
       "\t<tr><td>30+      </td><td>1        </td><td>male     </td><td>0.3837209</td></tr>\n",
       "\t<tr><td><span style=white-space:pre-wrap>&lt;10  </span></td><td>2                                               </td><td><span style=white-space:pre-wrap>male  </span>  </td><td>0.0000000                                       </td></tr>\n",
       "\t<tr><td>10-20    </td><td>2        </td><td>male     </td><td>0.1587302</td></tr>\n",
       "\t<tr><td>20-30    </td><td>2        </td><td>male     </td><td>0.1600000</td></tr>\n",
       "\t<tr><td>30+      </td><td>2        </td><td>male     </td><td>0.2142857</td></tr>\n",
       "\t<tr><td><span style=white-space:pre-wrap>&lt;10  </span></td><td>3                                               </td><td><span style=white-space:pre-wrap>male  </span>  </td><td>0.1115385                                       </td></tr>\n",
       "\t<tr><td>10-20    </td><td>3        </td><td>male     </td><td>0.2368421</td></tr>\n",
       "\t<tr><td>20-30    </td><td>3        </td><td>male     </td><td>0.1250000</td></tr>\n",
       "\t<tr><td>30+      </td><td>3        </td><td>male     </td><td>0.2400000</td></tr>\n",
       "</tbody>\n",
       "</table>\n"
      ],
      "text/latex": [
       "\\begin{tabular}{r|llll}\n",
       " Fare2 & Pclass & Sex & Survived\\\\\n",
       "\\hline\n",
       "\t 20-30     & 1         & female    & 0.8333333\\\\\n",
       "\t 30+       & 1         & female    & 0.9772727\\\\\n",
       "\t 10-20     & 2         & female    & 0.9142857\\\\\n",
       "\t 20-30     & 2         & female    & 0.9000000\\\\\n",
       "\t 30+       & 2         & female    & 1.0000000\\\\\n",
       "\t <10       & 3         & female    & 0.5937500\\\\\n",
       "\t 10-20     & 3         & female    & 0.5813953\\\\\n",
       "\t 20-30     & 3         & female    & 0.3333333\\\\\n",
       "\t 30+       & 3         & female    & 0.1250000\\\\\n",
       "\t <10       & 1         & male      & 0.0000000\\\\\n",
       "\t 20-30     & 1         & male      & 0.4000000\\\\\n",
       "\t 30+       & 1         & male      & 0.3837209\\\\\n",
       "\t <10       & 2         & male      & 0.0000000\\\\\n",
       "\t 10-20     & 2         & male      & 0.1587302\\\\\n",
       "\t 20-30     & 2         & male      & 0.1600000\\\\\n",
       "\t 30+       & 2         & male      & 0.2142857\\\\\n",
       "\t <10       & 3         & male      & 0.1115385\\\\\n",
       "\t 10-20     & 3         & male      & 0.2368421\\\\\n",
       "\t 20-30     & 3         & male      & 0.1250000\\\\\n",
       "\t 30+       & 3         & male      & 0.2400000\\\\\n",
       "\\end{tabular}\n"
      ],
      "text/markdown": [
       "\n",
       "Fare2 | Pclass | Sex | Survived | \n",
       "|---|---|---|---|---|---|---|---|---|---|---|---|---|---|---|---|---|---|---|---|\n",
       "| 20-30     | 1         | female    | 0.8333333 | \n",
       "| 30+       | 1         | female    | 0.9772727 | \n",
       "| 10-20     | 2         | female    | 0.9142857 | \n",
       "| 20-30     | 2         | female    | 0.9000000 | \n",
       "| 30+       | 2         | female    | 1.0000000 | \n",
       "| <10       | 3         | female    | 0.5937500 | \n",
       "| 10-20     | 3         | female    | 0.5813953 | \n",
       "| 20-30     | 3         | female    | 0.3333333 | \n",
       "| 30+       | 3         | female    | 0.1250000 | \n",
       "| <10       | 1         | male      | 0.0000000 | \n",
       "| 20-30     | 1         | male      | 0.4000000 | \n",
       "| 30+       | 1         | male      | 0.3837209 | \n",
       "| <10       | 2         | male      | 0.0000000 | \n",
       "| 10-20     | 2         | male      | 0.1587302 | \n",
       "| 20-30     | 2         | male      | 0.1600000 | \n",
       "| 30+       | 2         | male      | 0.2142857 | \n",
       "| <10       | 3         | male      | 0.1115385 | \n",
       "| 10-20     | 3         | male      | 0.2368421 | \n",
       "| 20-30     | 3         | male      | 0.1250000 | \n",
       "| 30+       | 3         | male      | 0.2400000 | \n",
       "\n",
       "\n"
      ],
      "text/plain": [
       "   Fare2 Pclass Sex    Survived \n",
       "1  20-30 1      female 0.8333333\n",
       "2  30+   1      female 0.9772727\n",
       "3  10-20 2      female 0.9142857\n",
       "4  20-30 2      female 0.9000000\n",
       "5  30+   2      female 1.0000000\n",
       "6  <10   3      female 0.5937500\n",
       "7  10-20 3      female 0.5813953\n",
       "8  20-30 3      female 0.3333333\n",
       "9  30+   3      female 0.1250000\n",
       "10 <10   1      male   0.0000000\n",
       "11 20-30 1      male   0.4000000\n",
       "12 30+   1      male   0.3837209\n",
       "13 <10   2      male   0.0000000\n",
       "14 10-20 2      male   0.1587302\n",
       "15 20-30 2      male   0.1600000\n",
       "16 30+   2      male   0.2142857\n",
       "17 <10   3      male   0.1115385\n",
       "18 10-20 3      male   0.2368421\n",
       "19 20-30 3      male   0.1250000\n",
       "20 30+   3      male   0.2400000"
      ]
     },
     "metadata": {},
     "output_type": "display_data"
    }
   ],
   "source": [
    "# Aggregate function proportion of people who survived in function of fare, class and sex\n",
    "aggregate(Survived ~ Fare2 + Pclass + Sex, data=train, FUN=function(x) {sum(x)/length(x)})"
   ]
  },
  {
   "cell_type": "code",
   "execution_count": 26,
   "metadata": {
    "collapsed": false
   },
   "outputs": [
    {
     "data": {
      "text/html": [
       "<table>\n",
       "<thead><tr><th scope=col>Fare2</th><th scope=col>Pclass</th><th scope=col>Sex</th><th scope=col>Survived</th></tr></thead>\n",
       "<tbody>\n",
       "\t<tr><td>20-30 </td><td>1     </td><td>female</td><td> 5    </td></tr>\n",
       "\t<tr><td>30+   </td><td>1     </td><td>female</td><td>86    </td></tr>\n",
       "\t<tr><td>10-20 </td><td>2     </td><td>female</td><td>32    </td></tr>\n",
       "\t<tr><td>20-30 </td><td>2     </td><td>female</td><td>27    </td></tr>\n",
       "\t<tr><td>30+   </td><td>2     </td><td>female</td><td>11    </td></tr>\n",
       "\t<tr><td><span style=white-space:pre-wrap>&lt;10  </span></td><td>3                                               </td><td>female                                          </td><td>38                                              </td></tr>\n",
       "\t<tr><td>10-20 </td><td>3     </td><td>female</td><td>25    </td></tr>\n",
       "\t<tr><td>20-30 </td><td>3     </td><td>female</td><td> 7    </td></tr>\n",
       "\t<tr><td>30+   </td><td>3     </td><td>female</td><td> 2    </td></tr>\n",
       "\t<tr><td><span style=white-space:pre-wrap>&lt;10  </span></td><td>1                                               </td><td><span style=white-space:pre-wrap>male  </span>  </td><td> 0                                              </td></tr>\n",
       "\t<tr><td>20-30 </td><td>1     </td><td>male  </td><td>12    </td></tr>\n",
       "\t<tr><td>30+   </td><td>1     </td><td>male  </td><td>33    </td></tr>\n",
       "\t<tr><td><span style=white-space:pre-wrap>&lt;10  </span></td><td>2                                               </td><td><span style=white-space:pre-wrap>male  </span>  </td><td> 0                                              </td></tr>\n",
       "\t<tr><td>10-20 </td><td>2     </td><td>male  </td><td>10    </td></tr>\n",
       "\t<tr><td>20-30 </td><td>2     </td><td>male  </td><td> 4    </td></tr>\n",
       "\t<tr><td>30+   </td><td>2     </td><td>male  </td><td> 3    </td></tr>\n",
       "\t<tr><td><span style=white-space:pre-wrap>&lt;10  </span></td><td>3                                               </td><td><span style=white-space:pre-wrap>male  </span>  </td><td>29                                              </td></tr>\n",
       "\t<tr><td>10-20 </td><td>3     </td><td>male  </td><td> 9    </td></tr>\n",
       "\t<tr><td>20-30 </td><td>3     </td><td>male  </td><td> 3    </td></tr>\n",
       "\t<tr><td>30+   </td><td>3     </td><td>male  </td><td> 6    </td></tr>\n",
       "</tbody>\n",
       "</table>\n"
      ],
      "text/latex": [
       "\\begin{tabular}{r|llll}\n",
       " Fare2 & Pclass & Sex & Survived\\\\\n",
       "\\hline\n",
       "\t 20-30  & 1      & female &  5    \\\\\n",
       "\t 30+    & 1      & female & 86    \\\\\n",
       "\t 10-20  & 2      & female & 32    \\\\\n",
       "\t 20-30  & 2      & female & 27    \\\\\n",
       "\t 30+    & 2      & female & 11    \\\\\n",
       "\t <10    & 3      & female & 38    \\\\\n",
       "\t 10-20  & 3      & female & 25    \\\\\n",
       "\t 20-30  & 3      & female &  7    \\\\\n",
       "\t 30+    & 3      & female &  2    \\\\\n",
       "\t <10    & 1      & male   &  0    \\\\\n",
       "\t 20-30  & 1      & male   & 12    \\\\\n",
       "\t 30+    & 1      & male   & 33    \\\\\n",
       "\t <10    & 2      & male   &  0    \\\\\n",
       "\t 10-20  & 2      & male   & 10    \\\\\n",
       "\t 20-30  & 2      & male   &  4    \\\\\n",
       "\t 30+    & 2      & male   &  3    \\\\\n",
       "\t <10    & 3      & male   & 29    \\\\\n",
       "\t 10-20  & 3      & male   &  9    \\\\\n",
       "\t 20-30  & 3      & male   &  3    \\\\\n",
       "\t 30+    & 3      & male   &  6    \\\\\n",
       "\\end{tabular}\n"
      ],
      "text/markdown": [
       "\n",
       "Fare2 | Pclass | Sex | Survived | \n",
       "|---|---|---|---|---|---|---|---|---|---|---|---|---|---|---|---|---|---|---|---|\n",
       "| 20-30  | 1      | female |  5     | \n",
       "| 30+    | 1      | female | 86     | \n",
       "| 10-20  | 2      | female | 32     | \n",
       "| 20-30  | 2      | female | 27     | \n",
       "| 30+    | 2      | female | 11     | \n",
       "| <10    | 3      | female | 38     | \n",
       "| 10-20  | 3      | female | 25     | \n",
       "| 20-30  | 3      | female |  7     | \n",
       "| 30+    | 3      | female |  2     | \n",
       "| <10    | 1      | male   |  0     | \n",
       "| 20-30  | 1      | male   | 12     | \n",
       "| 30+    | 1      | male   | 33     | \n",
       "| <10    | 2      | male   |  0     | \n",
       "| 10-20  | 2      | male   | 10     | \n",
       "| 20-30  | 2      | male   |  4     | \n",
       "| 30+    | 2      | male   |  3     | \n",
       "| <10    | 3      | male   | 29     | \n",
       "| 10-20  | 3      | male   |  9     | \n",
       "| 20-30  | 3      | male   |  3     | \n",
       "| 30+    | 3      | male   |  6     | \n",
       "\n",
       "\n"
      ],
      "text/plain": [
       "   Fare2 Pclass Sex    Survived\n",
       "1  20-30 1      female  5      \n",
       "2  30+   1      female 86      \n",
       "3  10-20 2      female 32      \n",
       "4  20-30 2      female 27      \n",
       "5  30+   2      female 11      \n",
       "6  <10   3      female 38      \n",
       "7  10-20 3      female 25      \n",
       "8  20-30 3      female  7      \n",
       "9  30+   3      female  2      \n",
       "10 <10   1      male    0      \n",
       "11 20-30 1      male   12      \n",
       "12 30+   1      male   33      \n",
       "13 <10   2      male    0      \n",
       "14 10-20 2      male   10      \n",
       "15 20-30 2      male    4      \n",
       "16 30+   2      male    3      \n",
       "17 <10   3      male   29      \n",
       "18 10-20 3      male    9      \n",
       "19 20-30 3      male    3      \n",
       "20 30+   3      male    6      "
      ]
     },
     "metadata": {},
     "output_type": "display_data"
    }
   ],
   "source": [
    "# Number of people who survived according to fare, class and sex\n",
    "aggregate(Survived ~ Fare2 + Pclass + Sex, data=train, FUN=sum)"
   ]
  },
  {
   "cell_type": "code",
   "execution_count": 27,
   "metadata": {
    "collapsed": false
   },
   "outputs": [
    {
     "data": {
      "text/html": [
       "<table>\n",
       "<thead><tr><th scope=col>Fare2</th><th scope=col>Pclass</th><th scope=col>Sex</th><th scope=col>Survived</th></tr></thead>\n",
       "<tbody>\n",
       "\t<tr><td>20-30 </td><td>1     </td><td>female</td><td>  6   </td></tr>\n",
       "\t<tr><td>30+   </td><td>1     </td><td>female</td><td> 88   </td></tr>\n",
       "\t<tr><td>10-20 </td><td>2     </td><td>female</td><td> 35   </td></tr>\n",
       "\t<tr><td>20-30 </td><td>2     </td><td>female</td><td> 30   </td></tr>\n",
       "\t<tr><td>30+   </td><td>2     </td><td>female</td><td> 11   </td></tr>\n",
       "\t<tr><td><span style=white-space:pre-wrap>&lt;10  </span></td><td>3                                               </td><td>female                                          </td><td> 64                                             </td></tr>\n",
       "\t<tr><td>10-20 </td><td>3     </td><td>female</td><td> 43   </td></tr>\n",
       "\t<tr><td>20-30 </td><td>3     </td><td>female</td><td> 21   </td></tr>\n",
       "\t<tr><td>30+   </td><td>3     </td><td>female</td><td> 16   </td></tr>\n",
       "\t<tr><td><span style=white-space:pre-wrap>&lt;10  </span></td><td>1                                               </td><td><span style=white-space:pre-wrap>male  </span>  </td><td><span style=white-space:pre-wrap>  6</span>     </td></tr>\n",
       "\t<tr><td>20-30 </td><td>1     </td><td>male  </td><td> 30   </td></tr>\n",
       "\t<tr><td>30+   </td><td>1     </td><td>male  </td><td> 86   </td></tr>\n",
       "\t<tr><td><span style=white-space:pre-wrap>&lt;10  </span></td><td>2                                               </td><td><span style=white-space:pre-wrap>male  </span>  </td><td><span style=white-space:pre-wrap>  6</span>     </td></tr>\n",
       "\t<tr><td>10-20 </td><td>2     </td><td>male  </td><td> 63   </td></tr>\n",
       "\t<tr><td>20-30 </td><td>2     </td><td>male  </td><td> 25   </td></tr>\n",
       "\t<tr><td>30+   </td><td>2     </td><td>male  </td><td> 14   </td></tr>\n",
       "\t<tr><td><span style=white-space:pre-wrap>&lt;10  </span></td><td>3                                               </td><td><span style=white-space:pre-wrap>male  </span>  </td><td>260                                             </td></tr>\n",
       "\t<tr><td>10-20 </td><td>3     </td><td>male  </td><td> 38   </td></tr>\n",
       "\t<tr><td>20-30 </td><td>3     </td><td>male  </td><td> 24   </td></tr>\n",
       "\t<tr><td>30+   </td><td>3     </td><td>male  </td><td> 25   </td></tr>\n",
       "</tbody>\n",
       "</table>\n"
      ],
      "text/latex": [
       "\\begin{tabular}{r|llll}\n",
       " Fare2 & Pclass & Sex & Survived\\\\\n",
       "\\hline\n",
       "\t 20-30  & 1      & female &   6   \\\\\n",
       "\t 30+    & 1      & female &  88   \\\\\n",
       "\t 10-20  & 2      & female &  35   \\\\\n",
       "\t 20-30  & 2      & female &  30   \\\\\n",
       "\t 30+    & 2      & female &  11   \\\\\n",
       "\t <10    & 3      & female &  64   \\\\\n",
       "\t 10-20  & 3      & female &  43   \\\\\n",
       "\t 20-30  & 3      & female &  21   \\\\\n",
       "\t 30+    & 3      & female &  16   \\\\\n",
       "\t <10    & 1      & male   &   6   \\\\\n",
       "\t 20-30  & 1      & male   &  30   \\\\\n",
       "\t 30+    & 1      & male   &  86   \\\\\n",
       "\t <10    & 2      & male   &   6   \\\\\n",
       "\t 10-20  & 2      & male   &  63   \\\\\n",
       "\t 20-30  & 2      & male   &  25   \\\\\n",
       "\t 30+    & 2      & male   &  14   \\\\\n",
       "\t <10    & 3      & male   & 260   \\\\\n",
       "\t 10-20  & 3      & male   &  38   \\\\\n",
       "\t 20-30  & 3      & male   &  24   \\\\\n",
       "\t 30+    & 3      & male   &  25   \\\\\n",
       "\\end{tabular}\n"
      ],
      "text/markdown": [
       "\n",
       "Fare2 | Pclass | Sex | Survived | \n",
       "|---|---|---|---|---|---|---|---|---|---|---|---|---|---|---|---|---|---|---|---|\n",
       "| 20-30  | 1      | female |   6    | \n",
       "| 30+    | 1      | female |  88    | \n",
       "| 10-20  | 2      | female |  35    | \n",
       "| 20-30  | 2      | female |  30    | \n",
       "| 30+    | 2      | female |  11    | \n",
       "| <10    | 3      | female |  64    | \n",
       "| 10-20  | 3      | female |  43    | \n",
       "| 20-30  | 3      | female |  21    | \n",
       "| 30+    | 3      | female |  16    | \n",
       "| <10    | 1      | male   |   6    | \n",
       "| 20-30  | 1      | male   |  30    | \n",
       "| 30+    | 1      | male   |  86    | \n",
       "| <10    | 2      | male   |   6    | \n",
       "| 10-20  | 2      | male   |  63    | \n",
       "| 20-30  | 2      | male   |  25    | \n",
       "| 30+    | 2      | male   |  14    | \n",
       "| <10    | 3      | male   | 260    | \n",
       "| 10-20  | 3      | male   |  38    | \n",
       "| 20-30  | 3      | male   |  24    | \n",
       "| 30+    | 3      | male   |  25    | \n",
       "\n",
       "\n"
      ],
      "text/plain": [
       "   Fare2 Pclass Sex    Survived\n",
       "1  20-30 1      female   6     \n",
       "2  30+   1      female  88     \n",
       "3  10-20 2      female  35     \n",
       "4  20-30 2      female  30     \n",
       "5  30+   2      female  11     \n",
       "6  <10   3      female  64     \n",
       "7  10-20 3      female  43     \n",
       "8  20-30 3      female  21     \n",
       "9  30+   3      female  16     \n",
       "10 <10   1      male     6     \n",
       "11 20-30 1      male    30     \n",
       "12 30+   1      male    86     \n",
       "13 <10   2      male     6     \n",
       "14 10-20 2      male    63     \n",
       "15 20-30 2      male    25     \n",
       "16 30+   2      male    14     \n",
       "17 <10   3      male   260     \n",
       "18 10-20 3      male    38     \n",
       "19 20-30 3      male    24     \n",
       "20 30+   3      male    25     "
      ]
     },
     "metadata": {},
     "output_type": "display_data"
    }
   ],
   "source": [
    "# Number of people according to fare, class and sex\n",
    "aggregate(Survived ~ Fare2 + Pclass + Sex, data=train, FUN=length)"
   ]
  },
  {
   "cell_type": "code",
   "execution_count": 31,
   "metadata": {
    "collapsed": false
   },
   "outputs": [],
   "source": [
    "# Create new submit file in which all women survived but women with class 3 and fare <= 20\n",
    "test$Survived <- 0\n",
    "test$Survived[test$Sex == \"female\"] <- 1\n",
    "test$Survived[test$Sex == \"female\" & test$Pclass == 3 & test$Fare >= 20] <- 0\n",
    "\n",
    "submit <- data.frame(PassengerId=test$PassengerId, Survived=test$Survived)\n",
    "write.csv(submit, file=\"mostwomensurvived.csv\", row.names=FALSE)"
   ]
  }
 ],
 "metadata": {
  "anaconda-cloud": {},
  "kernelspec": {
   "display_name": "R",
   "language": "R",
   "name": "ir"
  },
  "language_info": {
   "codemirror_mode": "r",
   "file_extension": ".r",
   "mimetype": "text/x-r-source",
   "name": "R",
   "pygments_lexer": "r",
   "version": "3.3.2"
  }
 },
 "nbformat": 4,
 "nbformat_minor": 0
}
